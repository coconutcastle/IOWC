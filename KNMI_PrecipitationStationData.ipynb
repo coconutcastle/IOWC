{
 "cells":[
  {
   "cell_type":"markdown",
   "source":[
    "# get_stations"
   ],
   "attachments":{
    
   },
   "metadata":{
    "datalore":{
     "sheet_delimiter":true
    }
   }
  },
  {
   "cell_type":"markdown",
   "source":[
    "# Code for KNMI Monthly Station Data Analysis\n",
    "\n",
    "Written by Cecile Dai.\n",
    "\n",
    "Uses information from https:\/\/climexp.knmi.nl\/about.cgi?id=someone@somewhere"
   ],
   "attachments":{
    
   },
   "metadata":{
    "datalore":{
     "type":"MD",
     "hide_input_from_viewers":false,
     "hide_output_from_viewers":false
    }
   }
  },
  {
   "cell_type":"markdown",
   "source":[
    "## Setup"
   ],
   "attachments":{
    
   },
   "metadata":{
    "datalore":{
     "type":"MD",
     "hide_input_from_viewers":false,
     "hide_output_from_viewers":false
    }
   }
  },
  {
   "cell_type":"code",
   "source":[
    "# Imports\n",
    "import numpy as np\n",
    "import pandas as pd\n",
    "import sys\n",
    "\n",
    "from bs4 import BeautifulSoup\n",
    "from requests_html import HTMLSession\n",
    "from pprint import pprint\n",
    "\n",
    "# Link to the KNMI page where you select the stations and data to view a monthly time series\n",
    "station_link = 'https:\/\/climexp.knmi.nl\/selectstation.cgi?id=someone@somewhere'\n",
    "\n",
    "# initialize HTTP session so data\/cookies are persisted\n",
    "session = HTMLSession()"
   ],
   "execution_count":174,
   "outputs":[
    
   ],
   "metadata":{
    "datalore":{
     "type":"CODE",
     "hide_input_from_viewers":false,
     "hide_output_from_viewers":false
    }
   }
  },
  {
   "cell_type":"markdown",
   "source":[
    "Parse all tags from a web page."
   ],
   "attachments":{
    
   },
   "metadata":{
    "datalore":{
     "type":"MD",
     "hide_input_from_viewers":false,
     "hide_output_from_viewers":false
    }
   }
  },
  {
   "cell_type":"code",
   "source":[
    "# Function to get all form tags from a given web page\n",
    "def get_all_forms(url):\n",
    "    # GET request\n",
    "    res = session.get(url)\n",
    "    soup = BeautifulSoup(res.html.html, \"html.parser\")\n",
    "    return soup.find_all(\"form\")"
   ],
   "execution_count":175,
   "outputs":[
    
   ],
   "metadata":{
    "datalore":{
     "type":"CODE",
     "hide_input_from_viewers":false,
     "hide_output_from_viewers":false
    }
   }
  },
  {
   "cell_type":"markdown",
   "source":[
    "Get all form details."
   ],
   "attachments":{
    
   },
   "metadata":{
    "datalore":{
     "type":"MD",
     "hide_input_from_viewers":false,
     "hide_output_from_viewers":false
    }
   }
  },
  {
   "cell_type":"code",
   "source":[
    "# Returns the HTML details of a form, including action, method and list of form controls (inputs, etc)\n",
    "def get_form_details(form):\n",
    "    details = {}\n",
    "    # get the form action (requested URL)\n",
    "    action = form.attrs.get(\"action\").lower()\n",
    "    # get the form method (POST, GET, DELETE, etc)\n",
    "    # if not specified, GET is the default in HTML\n",
    "    method = form.attrs.get(\"method\", \"get\").lower()\n",
    "    # get all form inputs\n",
    "    inputs = []\n",
    "    for input_tag in form.find_all(\"input\"):\n",
    "        # get type of input form control\n",
    "        input_type = input_tag.attrs.get(\"type\", \"text\")\n",
    "        # get name attribute\n",
    "        input_name = input_tag.attrs.get(\"name\")\n",
    "        # get the default value of that input tag\n",
    "        input_value =input_tag.attrs.get(\"value\", \"\")\n",
    "        # add everything to that list\n",
    "        inputs.append({\"type\": input_type, \"name\": input_name, \"value\": input_value})\n",
    "\n",
    "    # Get all 'select' and 'textarea' input types\n",
    "    for select in form.find_all(\"select\"):\n",
    "        # get the name attribute\n",
    "        select_name = select.attrs.get(\"name\")\n",
    "        # set the type as select\n",
    "        select_type = \"select\"\n",
    "        select_options = []\n",
    "        # the default select value\n",
    "        select_default_value = \"\"\n",
    "        # iterate over options and get the value of each\n",
    "        for select_option in select.find_all(\"option\"):\n",
    "            # get the option value used to submit the form\n",
    "            option_value = select_option.attrs.get(\"value\")\n",
    "            if option_value:\n",
    "                select_options.append(option_value)\n",
    "                if select_option.attrs.get(\"selected\"):\n",
    "                    # if 'selected' attribute is set, set this option as default    \n",
    "                    select_default_value = option_value\n",
    "        if not select_default_value and select_options:\n",
    "            # if the default is not set, and there are options, take the first option as default\n",
    "            select_default_value = select_options[0]\n",
    "        # add the select to the inputs list\n",
    "        inputs.append({\"type\": select_type, \"name\": select_name, \"values\": select_options, \"value\": select_default_value})\n",
    "    for textarea in form.find_all(\"textarea\"):\n",
    "        # get the name attribute\n",
    "        textarea_name = textarea.attrs.get(\"name\")\n",
    "        # set the type as textarea\n",
    "        textarea_type = \"textarea\"\n",
    "        # get the textarea value\n",
    "        textarea_value = textarea.attrs.get(\"value\", \"\")\n",
    "        # add the textarea to the inputs list\n",
    "        inputs.append({\"type\": textarea_type, \"name\": textarea_name, \"value\": textarea_value})\n",
    "        # put everything to the resulting dictionary\n",
    "    details[\"action\"] = action\n",
    "    details[\"method\"] = method\n",
    "    details[\"inputs\"] = inputs\n",
    "    return details"
   ],
   "execution_count":176,
   "outputs":[
    
   ],
   "metadata":{
    "datalore":{
     "type":"CODE",
     "hide_input_from_viewers":false,
     "hide_output_from_viewers":false
    }
   }
  },
  {
   "cell_type":"markdown",
   "source":[
    "Run the following block to print out form details, with input types and values."
   ],
   "attachments":{
    
   },
   "metadata":{
    "datalore":{
     "type":"MD",
     "hide_input_from_viewers":false,
     "hide_output_from_viewers":false
    }
   }
  },
  {
   "cell_type":"code",
   "source":[
    "# get all form tags\n",
    "forms = get_all_forms(station_link)\n",
    "# iteratte over forms\n",
    "for i, form in enumerate(forms, start=1):\n",
    "    form_details = get_form_details(form)\n",
    "    print(\"=\"*50, f\"form #{i}\", \"=\"*50)\n",
    "    print(\"action: {action}\\n\\n\".format(action=form_details[\"action\"]))\n",
    "    print(\"method: {method}\\n\\n\".format(method=form_details[\"method\"]))\n",
    "    for input in form_details[\"inputs\"]:\n",
    "        print(\"input: {i}\\n\".format(i=input))"
   ],
   "execution_count":177,
   "outputs":[
    {
     "name":"stdout",
     "text":[
      "================================================== form #1 ==================================================\n",
      "action: getstations.cgi\n",
      "\n",
      "\n",
      "method: post\n",
      "\n",
      "\n",
      "input: {'type': 'hidden', 'name': 'email', 'value': 'someone@somewhere'}\n",
      "\n",
      "input: {'type': 'radio', 'name': 'climate', 'value': 'precipitation'}\n",
      "\n",
      "input: {'type': 'radio', 'name': 'climate', 'value': 'precipitation_all'}\n",
      "\n",
      "input: {'type': 'radio', 'name': 'climate', 'value': 'sealev'}\n",
      "\n",
      "input: {'type': 'radio', 'name': 'climate', 'value': 'temperature'}\n",
      "\n",
      "input: {'type': 'radio', 'name': 'climate', 'value': 'temperature_all'}\n",
      "\n",
      "input: {'type': 'radio', 'name': 'climate', 'value': 'runoff'}\n",
      "\n",
      "input: {'type': 'radio', 'name': 'climate', 'value': 'min_temperature'}\n",
      "\n",
      "input: {'type': 'radio', 'name': 'climate', 'value': 'min_temperature_all'}\n",
      "\n",
      "input: {'type': 'radio', 'name': 'climate', 'value': 'streamflow'}\n",
      "\n",
      "input: {'type': 'radio', 'name': 'climate', 'value': 'max_temperature'}\n",
      "\n",
      "input: {'type': 'radio', 'name': 'climate', 'value': 'max_temperature_all'}\n",
      "\n",
      "input: {'type': 'radio', 'name': 'climate', 'value': 'snow'}\n",
      "\n",
      "input: {'type': 'radio', 'name': 'climate', 'value': 'sealevel_pressure'}\n",
      "\n",
      "input: {'type': 'radio', 'name': 'climate', 'value': 'eu_sealevel_pressure'}\n",
      "\n",
      "input: {'type': 'text', 'name': 'name', 'value': ''}\n",
      "\n",
      "input: {'type': 'text', 'name': 'num', 'value': '10'}\n",
      "\n",
      "input: {'type': 'text', 'name': 'lat', 'value': ''}\n",
      "\n",
      "input: {'type': 'text', 'name': 'lon', 'value': ''}\n",
      "\n",
      "input: {'type': 'text', 'name': 'lat1', 'value': ''}\n",
      "\n",
      "input: {'type': 'text', 'name': 'lat2', 'value': ''}\n",
      "\n",
      "input: {'type': 'text', 'name': 'lon1', 'value': ''}\n",
      "\n",
      "input: {'type': 'text', 'name': 'lon2', 'value': ''}\n",
      "\n",
      "input: {'type': 'text', 'name': 'min', 'value': '10'}\n",
      "\n",
      "input: {'type': 'text', 'name': 'yr1', 'value': ''}\n",
      "\n",
      "input: {'type': 'text', 'name': 'yr2', 'value': ''}\n",
      "\n",
      "input: {'type': 'text', 'name': 'dist', 'value': ''}\n",
      "\n",
      "input: {'type': 'text', 'name': 'elevmin', 'value': ''}\n",
      "\n",
      "input: {'type': 'text', 'name': 'elevmax', 'value': ''}\n",
      "\n",
      "input: {'type': 'submit', 'name': None, 'value': 'Get stations'}\n",
      "\n",
      "input: {'type': 'reset', 'name': None, 'value': 'Clear Form'}\n",
      "\n",
      "input: {'type': 'select', 'name': 'sum', 'values': ['1', '2', '3', '4'], 'value': '1'}\n",
      "\n",
      "input: {'type': 'select', 'name': 'month', 'values': ['-1', '0', '1', '2', '3', '4', '5', '6', '7', '8', '9', '10', '11', '12'], 'value': '-1'}\n",
      "\n",
      "input: {'type': 'textarea', 'name': 'list', 'value': ''}\n",
      "\n"
     ],
     "output_type":"stream"
    }
   ],
   "metadata":{
    "datalore":{
     "type":"CODE",
     "hide_input_from_viewers":false,
     "hide_output_from_viewers":false
    }
   }
  },
  {
   "cell_type":"markdown",
   "source":[
    "## Create Submission Form\n",
    "\n",
    "Start off by noting the submission values you want. For the purposes of only getting a monthly station list in a certain area for precipitation, only \"select: precipitation_all\", \"text: lat1\", \"text: lat2\", \"text: \"lon1\", and \"text: lon2\" will be filled out. These inputs select the precipitation measurements under GHCN-M (all) for all stations within a selected latitude and longitude area."
   ],
   "attachments":{
    
   },
   "metadata":{
    "datalore":{
     "type":"MD",
     "hide_input_from_viewers":false,
     "hide_output_from_viewers":false
    }
   }
  },
  {
   "cell_type":"code",
   "source":[
    "# Imports\n",
    "from bs4 import BeautifulSoup\n",
    "from pprint import pprint\n",
    "from urllib.parse import urljoin\n",
    "import webbrowser\n",
    "\n",
    "\n",
    "# Select precipitation_all\n",
    "\n",
    "# Define desired latitude and longitude. Change this for different areas.\n",
    "lat1, lat2 = 10, 15\n",
    "lon1, lon2 = 10, 15"
   ],
   "execution_count":178,
   "outputs":[
    
   ],
   "metadata":{
    "datalore":{
     "type":"CODE",
     "hide_input_from_viewers":false,
     "hide_output_from_viewers":false
    }
   }
  },
  {
   "cell_type":"code",
   "source":[
    "# the data body we want to submit\n",
    "data = {}\n",
    "\n",
    "data[\"email\"] = \"someone@somewhere\"\n",
    "data[\"climate\"] = \"precipitation_all\"\n",
    "data[\"name\"] = \"\"\n",
    "data[\"num\"] = 10\n",
    "data[\"lat\"] = \"\"\n",
    "data[\"lon\"] = \"\"\n",
    "data[\"lat1\"] = lat1\n",
    "data[\"lat2\"] = lat2\n",
    "data[\"lon1\"] = lon1\n",
    "data[\"lon2\"] = lon2\n",
    "data[\"list\"] = \"\"\"# lon1 lon2 lat1 lat2 (optional)\n",
    "station number (one per line)\"\"\"\n",
    "data[\"min\"] = 10\n",
    "data[\"sum\"] = 1\n",
    "data[\"month\"] = -1\n",
    "data[\"yr1\"] = \"\"\n",
    "data[\"yr2\"] = \"\"\n",
    "data[\"dist\"] = \"\"\n",
    "data[\"elevmin\"] = \"\"\n",
    "data[\"elevmax\"] = \"\"\n",
    "\n",
    "print(data)"
   ],
   "execution_count":179,
   "outputs":[
    {
     "name":"stdout",
     "text":[
      "{'email': 'someone@somewhere', 'climate': 'precipitation_all', 'name': '', 'num': 10, 'lat': '', 'lon': '', 'lat1': 10, 'lat2': 15, 'lon1': 10, 'lon2': 15, 'list': '# lon1 lon2 lat1 lat2 (optional)\\nstation number (one per line)', 'min': 10, 'sum': 1, 'month': -1, 'yr1': '', 'yr2': '', 'dist': '', 'elevmin': '', 'elevmax': ''}\n"
     ],
     "output_type":"stream"
    }
   ],
   "metadata":{
    "datalore":{
     "type":"CODE",
     "hide_input_from_viewers":false,
     "hide_output_from_viewers":false
    }
   }
  },
  {
   "cell_type":"markdown",
   "source":[
    "Submit form with desired inputs and extract relevant information from HTTP response."
   ],
   "attachments":{
    
   },
   "metadata":{
    "datalore":{
     "type":"MD",
     "hide_input_from_viewers":false,
     "hide_output_from_viewers":false
    }
   }
  },
  {
   "cell_type":"code",
   "source":[
    "# join the url with the action (form request URL)\n",
    "url = urljoin(station_link, form_details[\"action\"])\n",
    "\n",
    "# pprint(data)\n",
    "# Submit form and get response in res\n",
    "if form_details[\"method\"] == \"post\":\n",
    "    res = session.post(url, data=data)\n",
    "elif form_details[\"method\"] == \"get\":\n",
    "    res = session.get(url, params=data)\n",
    "elif form_details[\"method\"] == \"put\":\n",
    "    res = session.put(url, params=data)\n",
    "\n",
    "soup = BeautifulSoup(res.content, \"html.parser\")\n",
    "\n",
    "import re\n",
    "\n",
    "start = re.search('<\/div>\\n<\/form>', res.text)\n",
    "stop = re.search('<\/div>\\n<div class=\"col-md-4\">', res.text)\n",
    "\n",
    "# I will admit this is not the prettiest way to extract the desired text but the pure regex method just wasn't working :(\n",
    "limit1 = re.split(', ', str(start.span()))\n",
    "limit2 = re.split(', ', str(stop.span()))\n",
    "l1 = int(limit1[1].replace(')', ''))\n",
    "l2 = int(limit2[0].replace('(', ''))\n",
    "\n",
    "print(res.text[l1:l2])\n",
    "\n",
    "relevant_text = res.text[l1:l2]"
   ],
   "execution_count":180,
   "outputs":[
    {
     "name":"stdout",
     "text":[
      "\n",
      "Searching for stations in  10.00N: 15.00N,   10.00E:  15.00E<br>\n",
      "Requiring at least   10 years with data<br>\n",
      "Found      10 stations<br>\n",
      "<br>\n",
      "MAROUA-SALAK        CAMEROON  (CAMEROON)<br>\n",
      "coordinates:  10.50N,   14.30E,  423m<br>\n",
      "WMO station code: 64851 (<a href=\"getprcpall.cgi?id=someone@somewhere&WMO=64851&STATION=MAROUA-SALAK&extraargs=\">get data<\/a>)<br>\n",
      "Found   49 years with data in 1951-2000<br>\n",
      "<br>\n",
      "KAELE               CAMEROON  (CAMEROON)<br>\n",
      "coordinates:  10.10N,   14.50E,  386m<br>\n",
      "Near WMO station code: 64851.1 (<a href=\"getprcpall.cgi?id=someone@somewhere&WMO=64851.1&STATION=KAELE&extraargs=\">get data<\/a>)<br>\n",
      "Found   39 years with data in 1951-1989<br>\n",
      "<br>\n",
      "BOL BEREM           CHAD      (CHAD)<br>\n",
      "coordinates:  13.40N,   14.70E,  292m<br>\n",
      "WMO station code: 64702 (<a href=\"getprcpall.cgi?id=someone@somewhere&WMO=64702&STATION=BOL_BEREM&extraargs=\">get data<\/a>)<br>\n",
      "Found   65 years with data in 1908-1990<br>\n",
      "<br>\n",
      "GOURE               NIGER     (NIGER)<br>\n",
      "coordinates:  14.00N,   10.30E,  460m<br>\n",
      "WMO station code: 61045 (<a href=\"getprcpall.cgi?id=someone@somewhere&WMO=61045&STATION=GOURE&extraargs=\">get data<\/a>)<br>\n",
      "Found   68 years with data in 1936-2004<br>\n",
      "<br>\n",
      "N'GUIGMI            NIGER     (NIGER)<br>\n",
      "coordinates:  14.30N,   13.10E,  286m<br>\n",
      "WMO station code: 61049 (<a href=\"getprcpall.cgi?id=someone@somewhere&WMO=61049&STATION=N'GUIGMI&extraargs=\">get data<\/a>)<br>\n",
      "Found   98 years with data in 1921-2018<br>\n",
      "<br>\n",
      "DIFFA               NIGER     (NIGER)<br>\n",
      "coordinates:  13.40N,   12.80E,  305m<br>\n",
      "WMO station code: 61085 (<a href=\"getprcpall.cgi?id=someone@somewhere&WMO=61085&STATION=DIFFA&extraargs=\">get data<\/a>)<br>\n",
      "Found   42 years with data in 1961-2003<br>\n",
      "<br>\n",
      "MAINE-SOROA         NIGER     (NIGER)<br>\n",
      "coordinates:  13.20N,   12.00E,  338m<br>\n",
      "WMO station code: 61096 (<a href=\"getprcpall.cgi?id=someone@somewhere&WMO=61096&STATION=MAINE-SOROA&extraargs=\">get data<\/a>)<br>\n",
      "Found   83 years with data in 1936-2018<br>\n",
      "<br>\n",
      "NGURU               NIGERIA   (NIGERIA)<br>\n",
      "coordinates:  12.80N,   10.50E,  344m<br>\n",
      "WMO station code: 65064 (<a href=\"getprcpall.cgi?id=someone@somewhere&WMO=65064&STATION=NGURU&extraargs=\">get data<\/a>)<br>\n",
      "Found   57 years with data in 1942-1998<br>\n",
      "<br>\n",
      "POTISKUM            NIGERIA   (NIGERIA)<br>\n",
      "coordinates:  11.60N,   11.00E,  414m<br>\n",
      "WMO station code: 65073 (<a href=\"getprcpall.cgi?id=someone@somewhere&WMO=65073&STATION=POTISKUM&extraargs=\">get data<\/a>)<br>\n",
      "Found   63 years with data in 1936-1998<br>\n",
      "<br>\n",
      "MAIDUGURI           NIGERIA   (NIGERIA)<br>\n",
      "coordinates:  11.90N,   13.10E,  354m<br>\n",
      "WMO station code: 65082 (<a href=\"getprcpall.cgi?id=someone@somewhere&WMO=65082&STATION=MAIDUGURI&extraargs=\">get data<\/a>)<br>\n",
      "Found   92 years with data in 1909-2000<br>\n",
      "<br>\n",
      "         \n"
     ],
     "output_type":"stream"
    }
   ],
   "metadata":{
    "datalore":{
     "type":"CODE",
     "hide_input_from_viewers":false,
     "hide_output_from_viewers":false
    }
   }
  },
  {
   "cell_type":"markdown",
   "source":[
    "Parse through data to create a dataframe."
   ],
   "attachments":{
    
   },
   "metadata":{
    "datalore":{
     "type":"MD",
     "hide_input_from_viewers":false,
     "hide_output_from_viewers":false
    }
   }
  },
  {
   "cell_type":"code",
   "source":[
    "lines = relevant_text.replace('\\n', '').split('<br>')\n",
    "        \n",
    "header = [\"Station Name\", \"Latitude\", \"Longitude\", \"Elevation\", \"Station Code\", \"Starting Year\", \"Ending Year\", \"Monthly Series Link\"]\n",
    "station_names = []\n",
    "lats = []\n",
    "lons = []\n",
    "elevs = []\n",
    "codes = []\n",
    "start_year = []\n",
    "end_year = []\n",
    "links = []\n",
    "\n",
    "stripped_lines = []\n",
    "\n",
    "for i in range(len(lines)):\n",
    "    if len(\"\".join(lines[i].split())) != 0 and i >= 3:\n",
    "        stripped_lines.append(lines[i])\n",
    "        # print(lines[i])\n",
    "    else:\n",
    "        continue\n",
    "\n",
    "for j in range(len(stripped_lines)):\n",
    "    # Station names\n",
    "    if j%4 == 0:\n",
    "        # print(\" \".join(stripped_lines[j].split()))\n",
    "        station_names.append(\" \".join(stripped_lines[j].split()))\n",
    "\n",
    "    # Coordinates and elevation\n",
    "    elif j%4 == 1:\n",
    "        latitude = re.search('\\s+(.*)N', stripped_lines[j])\n",
    "        # print(latitude.group(0).strip())\n",
    "        lats.append(latitude.group(0).strip())\n",
    "\n",
    "        longitude = re.search(',\\s+(.*)E', stripped_lines[j])\n",
    "        # print(longitude.group(0).replace(',','').strip())\n",
    "        lons.append(longitude.group(0).replace(',','').strip())\n",
    "\n",
    "        elevation = re.search('E,\\s+(.*m)', stripped_lines[j])\n",
    "        # print(elevation.group(0).replace(\"E,\", '').strip())\n",
    "        elevs.append(elevation.group(0).replace(\"E,\", '').strip())\n",
    "\n",
    "    # Station code and monthly series link\n",
    "    elif j%4 == 2:\n",
    "        code = re.search('([0-9\\.]+)', stripped_lines[j])\n",
    "        # print(code.group(0))\n",
    "        codes.append(code.group(0))\n",
    "\n",
    "        link = re.search('\\\"(.*)\\\"', stripped_lines[j])\n",
    "        # print(link.group(0).replace('\"', ''))\n",
    "        links.append(link.group(0).replace('\"', ''))\n",
    "\n",
    "    # Data start and end year\n",
    "    elif j%4 == 3:\n",
    "        years = re.search('([0-9]{4}\\-[0-9]{4})', stripped_lines[j])\n",
    "        # print(years.group(0))\n",
    "        # print(years.group(0)[:4])\n",
    "        # print(years.group(0)[5:])\n",
    "        start_year.append(years.group(0)[:4])\n",
    "        end_year.append(years.group(0)[5:])\n",
    "\n",
    "data = {'Station Name': station_names, 'Latitude': lats, 'Longitude': lons, 'Elevation': elevs, 'Station Code': codes, 'Starting Year': start_year, 'Ending Year': end_year, 'Monthly Series Link': links}\n",
    "\n",
    "df = pd.DataFrame(data)\n",
    "print(df)"
   ],
   "execution_count":181,
   "outputs":[
    {
     "name":"stdout",
     "text":[
      "                       Station Name Latitude Longitude Elevation Station Code  \\\n",
      "0  MAROUA-SALAK CAMEROON (CAMEROON)   10.50N    14.30E      423m        64851   \n",
      "1         KAELE CAMEROON (CAMEROON)   10.10N    14.50E      386m      64851.1   \n",
      "2             BOL BEREM CHAD (CHAD)   13.40N    14.70E      292m        64702   \n",
      "3               GOURE NIGER (NIGER)   14.00N    10.30E      460m        61045   \n",
      "4            N'GUIGMI NIGER (NIGER)   14.30N    13.10E      286m        61049   \n",
      "5               DIFFA NIGER (NIGER)   13.40N    12.80E      305m        61085   \n",
      "6         MAINE-SOROA NIGER (NIGER)   13.20N    12.00E      338m        61096   \n",
      "7           NGURU NIGERIA (NIGERIA)   12.80N    10.50E      344m        65064   \n",
      "8        POTISKUM NIGERIA (NIGERIA)   11.60N    11.00E      414m        65073   \n",
      "9       MAIDUGURI NIGERIA (NIGERIA)   11.90N    13.10E      354m        65082   \n",
      "\n",
      "  Starting Year Ending Year                                Monthly Series Link  \n",
      "0          1951        2000  getprcpall.cgi?id=someone@somewhere&WMO=64851&...  \n",
      "1          1951        1989  getprcpall.cgi?id=someone@somewhere&WMO=64851....  \n",
      "2          1908        1990  getprcpall.cgi?id=someone@somewhere&WMO=64702&...  \n",
      "3          1936        2004  getprcpall.cgi?id=someone@somewhere&WMO=61045&...  \n",
      "4          1921        2018  getprcpall.cgi?id=someone@somewhere&WMO=61049&...  \n",
      "5          1961        2003  getprcpall.cgi?id=someone@somewhere&WMO=61085&...  \n",
      "6          1936        2018  getprcpall.cgi?id=someone@somewhere&WMO=61096&...  \n",
      "7          1942        1998  getprcpall.cgi?id=someone@somewhere&WMO=65064&...  \n",
      "8          1936        1998  getprcpall.cgi?id=someone@somewhere&WMO=65073&...  \n",
      "9          1909        2000  getprcpall.cgi?id=someone@somewhere&WMO=65082&...  \n"
     ],
     "output_type":"stream"
    }
   ],
   "metadata":{
    "datalore":{
     "type":"CODE",
     "hide_input_from_viewers":false,
     "hide_output_from_viewers":false
    }
   }
  },
  {
   "cell_type":"markdown",
   "source":[
    "Run this code block to download the data as a .csv file."
   ],
   "attachments":{
    
   },
   "metadata":{
    "datalore":{
     "type":"MD",
     "hide_input_from_viewers":false,
     "hide_output_from_viewers":false
    }
   }
  },
  {
   "cell_type":"code",
   "source":[
    "filename = \"all_stations_lat={a}to{b}_lon={c}to{d}.csv\".format(a = lat1, b = lat2, c = lon1, d = lon2)\n",
    "df.to_csv(filename, index=False)"
   ],
   "execution_count":173,
   "outputs":[
    
   ],
   "metadata":{
    "datalore":{
     "type":"CODE",
     "hide_input_from_viewers":false,
     "hide_output_from_viewers":false
    }
   }
  },
  {
   "cell_type":"markdown",
   "source":[
    "## References\n",
    "\n",
    "Code adapted from: https:\/\/www.thepythoncode.com\/article\/extracting-and-submitting-web-page-forms-in-python\n",
    "\n",
    "Other Resources:"
   ],
   "attachments":{
    
   },
   "metadata":{
    "datalore":{
     "type":"MD",
     "hide_input_from_viewers":false,
     "hide_output_from_viewers":false
    }
   }
  },
  {
   "cell_type":"markdown",
   "source":[
    "# get_data"
   ],
   "attachments":{
    
   },
   "metadata":{
    "datalore":{
     "sheet_delimiter":true
    }
   }
  },
  {
   "cell_type":"code",
   "source":[
    
   ],
   "execution_count":0,
   "outputs":[
    
   ],
   "metadata":{
    "datalore":{
     "type":"CODE",
     "hide_input_from_viewers":false,
     "hide_output_from_viewers":false
    }
   }
  }
 ],
 "metadata":{
  "datalore":{
   "version":1,
   "computation_mode":"JUPYTER",
   "package_manager":"pip",
   "base_environment":"default",
   "packages":[
    {
     "name":"bs4",
     "version":"0.0.1",
     "source":"PIP"
    },
    {
     "name":"requests-html",
     "version":"0.10.0",
     "source":"PIP"
    }
   ]
  }
 },
 "nbformat":4,
 "nbformat_minor":4
}
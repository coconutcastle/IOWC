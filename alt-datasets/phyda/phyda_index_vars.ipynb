{
 "cells": [
  {
   "cell_type": "code",
   "execution_count": 1,
   "metadata": {
    "collapsed": true
   },
   "outputs": [
    {
     "data": {
      "text/plain": "<class 'netCDF4._netCDF4.Dataset'>\nroot group (NETCDF4 data model, file format HDF5):\n    author: Nathan Steiger, LDEO Columbia University, Nov 2018\n    NCO: \"4.6.2\"\n    citation: http://doi.org/10.1038/sdata.2018.86\n    dimensions(sizes): lat(96), lon(144), time(2000), tmon(24000), sub_ens(100)\n    variables(dimensions): float64 lat(lat), float64 lon(lon), float64 time(time), float64 tmon(tmon), float64 Nino_12_ens(sub_ens, tmon), float64 Nino_3_ens(sub_ens, tmon), float64 Nino_3.4_ens(sub_ens, tmon), float64 Nino_4_ens(sub_ens, tmon), float64 PacDelSST_ens(sub_ens, tmon), float64 Atl_ens(sub_ens, time), float64 Pac130_ens(sub_ens, time), float64 Pac160_ens(sub_ens, time), float64 EPac_ens(sub_ens, time), float64 WPac_ens(sub_ens, time), float64 SAsia_ens(sub_ens, time), float64 IndOcn_ens(sub_ens, time), float64 SAmer_ens(sub_ens, time), float64 Ind_ens(sub_ens, time), float64 Afr_ens(sub_ens, time), float64 EAfr_ens(sub_ens, time), float64 gmt_ens(sub_ens, time), float64 amo_ens(sub_ens, time)\n    groups: "
     },
     "execution_count": 1,
     "metadata": {},
     "output_type": "execute_result"
    }
   ],
   "source": [
    "import netCDF4 as nc\n",
    "\n",
    "index_file = 'phyda_ens_indexvars_AprMar_r.1-2000_d.21-Nov-2018.nc'\n",
    "index_file = nc.Dataset(index_file)\n",
    "\n",
    "index_file"
   ]
  },
  {
   "cell_type": "code",
   "execution_count": null,
   "outputs": [],
   "source": [],
   "metadata": {
    "collapsed": false,
    "pycharm": {
     "name": "#%%\n"
    }
   }
  }
 ],
 "metadata": {
  "kernelspec": {
   "display_name": "Python 3",
   "language": "python",
   "name": "python3"
  },
  "language_info": {
   "codemirror_mode": {
    "name": "ipython",
    "version": 2
   },
   "file_extension": ".py",
   "mimetype": "text/x-python",
   "name": "python",
   "nbconvert_exporter": "python",
   "pygments_lexer": "ipython2",
   "version": "2.7.6"
  }
 },
 "nbformat": 4,
 "nbformat_minor": 0
}
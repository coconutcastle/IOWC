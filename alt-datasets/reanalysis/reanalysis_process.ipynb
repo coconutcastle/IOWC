{
 "cells": [
  {
   "cell_type": "code",
   "execution_count": 1,
   "metadata": {
    "collapsed": true
   },
   "outputs": [],
   "source": [
    "import pandas as pd\n",
    "import numpy as np\n",
    "from calendar import month_name, monthrange"
   ]
  },
  {
   "cell_type": "code",
   "execution_count": 2,
   "outputs": [],
   "source": [
    "# FUNCTIONS\n",
    "\n",
    "# takes a df with the data in mm/day format and return a df with the data in mm/month and an annual column\n",
    "# assumes the months are in numbered format\n",
    "def get_monthly_and_annual(df):\n",
    "    print('Processing REANALYSIS dataframe...')\n",
    "\n",
    "    prate_dict = {\n",
    "        'Year': list(range(1836, 2016)),\n",
    "        'January': [],\n",
    "        'February': [],\n",
    "        'March': [],\n",
    "        'April': [],\n",
    "        'May': [],\n",
    "        'June': [],\n",
    "        'July': [],\n",
    "        'August': [],\n",
    "        'September': [],\n",
    "        'October': [],\n",
    "        'November': [],\n",
    "        'December': [],\n",
    "        'Annual': []\n",
    "    }\n",
    "\n",
    "    # go row by row to account for leap years\n",
    "    for row in range(df.shape[0]):\n",
    "        annual_sum = 0\n",
    "        for month in range(1, 13):\n",
    "            monthly_value = (float(df.iloc[row][month])) * monthrange(int(df.iloc[row]['Year']), month)[1]\n",
    "            prate_dict[month_name[month]].append(monthly_value)\n",
    "            annual_sum += monthly_value\n",
    "\n",
    "        prate_dict['Annual'].append(annual_sum)\n",
    "\n",
    "    prate_df = pd.DataFrame(prate_dict)\n",
    "\n",
    "    print('Done processing into monthly and annual data. Resultant dataframe is:')\n",
    "    print(prate_df)\n",
    "\n",
    "    return prate_df\n",
    "\n",
    "# get processed prate dfs from lists containing data (assume all the same length)\n",
    "def get_prate_dfs_from_df_list(df_list):\n",
    "\n",
    "    processed_dfs = []\n",
    "\n",
    "    for df in range(len(df_list)):\n",
    "        processed_df = get_monthly_and_annual(df_list[df])\n",
    "        processed_dfs.append(processed_df)\n",
    "\n",
    "    return processed_dfs"
   ],
   "metadata": {
    "collapsed": false,
    "pycharm": {
     "name": "#%%\n"
    }
   }
  },
  {
   "cell_type": "code",
   "execution_count": 3,
   "outputs": [
    {
     "name": "stdout",
     "output_type": "stream",
     "text": [
      "Processing REANALYSIS dataframe...\n",
      "Done processing into monthly and annual data. Resultant dataframe is:\n",
      "     Year     January    February       March     April        May     June  \\\n",
      "0    1836  122.256002  108.431986  178.934418  127.2132  46.645204   2.0100   \n",
      "1    1837  136.058411  108.950408  160.812004  122.1372  44.884807   2.8200   \n",
      "2    1838  133.941607  145.605600  156.081590  114.5340  41.482805   2.5800   \n",
      "3    1839  140.950769  125.895616  161.719188  164.6676  43.675187   3.9420   \n",
      "4    1840  144.460806  113.540394  171.471602  123.3360  48.394782   3.2940   \n",
      "..    ...         ...         ...         ...       ...        ...      ...   \n",
      "175  2011  126.640797   65.264388  173.437188  109.0260  22.042804   0.3660   \n",
      "176  2012   63.655214  108.356383  165.391200  129.1248  55.717199   3.8124   \n",
      "177  2013  108.216009   68.817588  176.590787  137.3760  30.866399   0.0648   \n",
      "178  2014  108.604780  112.244412  154.267191  128.0880  27.550801  11.3400   \n",
      "179  2015   52.358411   73.234784   80.146811  238.4964  47.638816   5.5188   \n",
      "\n",
      "        July   August  September    October   November    December  \\\n",
      "0    0.22692  1.33920     8.7156  56.160003  159.89400  162.572401   \n",
      "1    0.37820  0.66960     5.4972  82.447197  176.18043  161.395238   \n",
      "2    0.72230  0.63860     9.3420  67.089611  144.03963  159.440409   \n",
      "3    0.49600  0.27001    10.4004  53.146803  155.36880  164.462409   \n",
      "4    0.32550  0.45260    13.0788  68.255986  180.74883  151.005619   \n",
      "..       ...      ...        ...        ...        ...         ...   \n",
      "175  0.08649  0.05394     3.6396  48.513605   96.60600  195.857969   \n",
      "176  0.00000  0.10788     1.2960  44.463610  141.28560  154.353619   \n",
      "177  0.04309  0.00000     1.4580  10.508402   88.58160  129.060006   \n",
      "178  0.06479  0.67890     5.6052  48.470391   74.02320  144.806425   \n",
      "179  0.75640  0.15128     2.0520  39.506400  205.11360  141.922836   \n",
      "\n",
      "          Annual  \n",
      "0     974.398934  \n",
      "1    1002.230695  \n",
      "2     975.498152  \n",
      "3    1024.994782  \n",
      "4    1018.364919  \n",
      "..           ...  \n",
      "175   841.534781  \n",
      "176   867.563905  \n",
      "177   751.582681  \n",
      "178   815.744089  \n",
      "179   886.896538  \n",
      "\n",
      "[180 rows x 14 columns]\n"
     ]
    }
   ],
   "source": [
    "# East Africa Locales\n",
    "# locale_og_dfs = [pd.read_csv('mpwapwa_reanalysis_prate.csv'), pd.read_csv('ujiji_reanalysis_prate.csv')]\n",
    "# locale_processed_filenames = ['mpwapwa_reanalysis_processed_prate', 'ujiji_reanalysis_processed_prate']\n",
    "\n",
    "# Tabora\n",
    "locale_og_dfs = [pd.read_csv('tabora_reanalysis_prate.csv')]\n",
    "locale_processed_filenames = ['tabora_reanalysis_processed_prate']\n",
    "\n",
    "# Gwyn Request\n",
    "# locale_og_dfs = [pd.read_csv('antananarivo_reanalysis_prate.csv')]\n",
    "# locale_processed_filenames = ['antananarivo_reanalysis_processed_prate']\n",
    "\n",
    "locale_processed_dfs = get_prate_dfs_from_df_list(locale_og_dfs)"
   ],
   "metadata": {
    "collapsed": false,
    "pycharm": {
     "name": "#%%\n"
    }
   }
  },
  {
   "cell_type": "code",
   "execution_count": 4,
   "outputs": [],
   "source": [
    "# DOWNLOAD FILES\n",
    "\n",
    "for file in range(len(locale_processed_dfs)):\n",
    "    filename = f'C:\\\\Users\\\\Cecile Dai\\\\Documents\\\\Professional\\\\McGill University\\\\IOWC\\\\Other Datasets\\\\Alternative_Datasets\\\\REANALYSIS\\\\{locale_processed_filenames[file]}.csv'\n",
    "    locale_processed_dfs[file].to_csv(filename, index=False)"
   ],
   "metadata": {
    "collapsed": false,
    "pycharm": {
     "name": "#%%\n"
    }
   }
  },
  {
   "cell_type": "code",
   "execution_count": null,
   "outputs": [],
   "source": [],
   "metadata": {
    "collapsed": false,
    "pycharm": {
     "name": "#%%\n"
    }
   }
  }
 ],
 "metadata": {
  "kernelspec": {
   "display_name": "Python 3",
   "language": "python",
   "name": "python3"
  },
  "language_info": {
   "codemirror_mode": {
    "name": "ipython",
    "version": 2
   },
   "file_extension": ".py",
   "mimetype": "text/x-python",
   "name": "python",
   "nbconvert_exporter": "python",
   "pygments_lexer": "ipython2",
   "version": "2.7.6"
  }
 },
 "nbformat": 4,
 "nbformat_minor": 0
}
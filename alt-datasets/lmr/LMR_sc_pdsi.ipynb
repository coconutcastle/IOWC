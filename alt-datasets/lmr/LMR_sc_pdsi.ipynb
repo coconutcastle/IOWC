{
 "cells": [
  {
   "cell_type": "code",
   "execution_count": 4,
   "metadata": {
    "collapsed": true
   },
   "outputs": [],
   "source": [
    "import netCDF4 as nc\n",
    "\n",
    "pdsi_file = 'pdsi_MCruns_ensemble_mean_LMRv2.1.nc'\n",
    "pdsi_data = nc.Dataset(pdsi_file)\n",
    "\n",
    "pdsi_spread_file = 'pdsi_MCruns_ensemble_spread_LMRv2.1.nc'\n",
    "pdsi_spread_data = nc.Dataset(pdsi_spread_file)\n",
    "\n",
    "climate_index_file = 'posterior_climate_indices_MCruns_ensemble_full_LMRv2.1.nc'\n",
    "climate_index_data = nc.Dataset(climate_index_file)"
   ]
  },
  {
   "cell_type": "code",
   "execution_count": 5,
   "outputs": [
    {
     "name": "stdout",
     "output_type": "stream",
     "text": [
      "<class 'netCDF4._netCDF4.Dataset'>\n",
      "root group (NETCDF4 data model, file format HDF5):\n",
      "    description: Last Millennium Reanalysis climate field reconstruction for variable: pdsi\n",
      "    experiment: productionFinal2_gisgpcc_ccms4_LMRdbv1.1.0_pdsi\n",
      "    comment: File contains ensemble-mean values for each Monte-Carlo reconstruction (MCrun)\n",
      "    dimensions(sizes): time(2001), MCrun(20), lat(91), lon(180)\n",
      "    variables(dimensions): float64 time(time), float32 lat(lat), float32 lon(lon), float32 pdsi(time, MCrun, lat, lon)\n",
      "    groups: \n",
      "\n",
      "========================================\n",
      "\n",
      "<class 'netCDF4._netCDF4.Dataset'>\n",
      "root group (NETCDF4 data model, file format HDF5):\n",
      "    description: Last Millennium Reanalysis climate field reconstruction for variable: pdsi\n",
      "    experiment: productionFinal2_gisgpcc_ccms4_LMRdbv1.1.0_pdsi\n",
      "    comment: File contains ensemble spread values for each Monte-Carlo reconstruction (MCrun)\n",
      "    dimensions(sizes): time(2001), MCrun(20), lat(91), lon(180)\n",
      "    variables(dimensions): float64 time(time), float32 lat(lat), float32 lon(lon), float32 pdsi(time, MCrun, lat, lon)\n",
      "    groups: \n",
      "\n",
      "========================================\n",
      "\n",
      "<class 'netCDF4._netCDF4.Dataset'>\n",
      "root group (NETCDF4 data model, file format HDF5):\n",
      "    description: Climate indices calculated from an LMR reconstruction\n",
      "    experiment: productionFinal2_gisgpcc_ccms4_LMRdbv1.1.0: LMR production v2.1\n",
      "    comment: File contains values for each Monte-Carlo realization (MCrun)\n",
      "    dimensions(sizes): time(2001), MCrun(20), members(100), lat_npac(24), lon_npac(81)\n",
      "    variables(dimensions): int32 time(time), float32 ensmean_pdo_pattern(lat_npac, lon_npac), float32 ensmean_pdo_idx(time), float32 lat_npac(lat_npac), float32 lon_npac(lon_npac), float32 pdo(time, MCrun, members), float32 amo(time, MCrun, members), float32 nino34(time, MCrun, members), float32 ao(time, MCrun, members), float32 nao(time, MCrun, members), float32 soi(time, MCrun, members), float32 sam(time, MCrun, members)\n",
      "    groups: \n"
     ]
    }
   ],
   "source": [
    "print(pdsi_data)\n",
    "print('\\n========================================\\n')\n",
    "print(pdsi_spread_data)\n",
    "print('\\n========================================\\n')\n",
    "print(climate_index_data)"
   ],
   "metadata": {
    "collapsed": false,
    "pycharm": {
     "name": "#%%\n"
    }
   }
  },
  {
   "cell_type": "code",
   "execution_count": 7,
   "outputs": [
    {
     "ename": "IndexError",
     "evalue": "members not found in /",
     "output_type": "error",
     "traceback": [
      "\u001B[1;31m---------------------------------------------------------------------------\u001B[0m",
      "\u001B[1;31mIndexError\u001B[0m                                Traceback (most recent call last)",
      "\u001B[1;32m<ipython-input-7-45e93e64e070>\u001B[0m in \u001B[0;36m<module>\u001B[1;34m\u001B[0m\n\u001B[1;32m----> 1\u001B[1;33m \u001B[0mprint\u001B[0m\u001B[1;33m(\u001B[0m\u001B[0mclimate_index_data\u001B[0m\u001B[1;33m[\u001B[0m\u001B[1;34m'members'\u001B[0m\u001B[1;33m]\u001B[0m\u001B[1;33m)\u001B[0m\u001B[1;33m\u001B[0m\u001B[1;33m\u001B[0m\u001B[0m\n\u001B[0m",
      "\u001B[1;32msrc\\netCDF4\\_netCDF4.pyx\u001B[0m in \u001B[0;36mnetCDF4._netCDF4.Dataset.__getitem__\u001B[1;34m()\u001B[0m\n",
      "\u001B[1;31mIndexError\u001B[0m: members not found in /"
     ]
    }
   ],
   "source": [
    "print(climate_index_data['members'])"
   ],
   "metadata": {
    "collapsed": false,
    "pycharm": {
     "name": "#%%\n"
    }
   }
  },
  {
   "cell_type": "code",
   "execution_count": null,
   "outputs": [],
   "source": [],
   "metadata": {
    "collapsed": false,
    "pycharm": {
     "name": "#%%\n"
    }
   }
  }
 ],
 "metadata": {
  "kernelspec": {
   "display_name": "Python 3",
   "language": "python",
   "name": "python3"
  },
  "language_info": {
   "codemirror_mode": {
    "name": "ipython",
    "version": 2
   },
   "file_extension": ".py",
   "mimetype": "text/x-python",
   "name": "python",
   "nbconvert_exporter": "python",
   "pygments_lexer": "ipython2",
   "version": "2.7.6"
  }
 },
 "nbformat": 4,
 "nbformat_minor": 0
}